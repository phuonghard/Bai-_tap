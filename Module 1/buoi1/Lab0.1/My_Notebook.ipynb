{
 "cells": [
  {
   "cell_type": "code",
   "execution_count": 3,
   "id": "75159183-85ce-4bd1-abde-b49c4df54184",
   "metadata": {},
   "outputs": [],
   "source": [
    "#ngon"
   ]
  },
  {
   "cell_type": "code",
   "execution_count": null,
   "id": "b5bc46ed-0e1c-41f9-94e4-cbd4c0b70bb2",
   "metadata": {},
   "outputs": [],
   "source": [
    "1+1"
   ]
  },
  {
   "cell_type": "code",
   "execution_count": 7,
   "id": "253bf0df-1872-4074-8dc2-72b717a65c57",
   "metadata": {},
   "outputs": [
    {
     "data": {
      "text/plain": [
       "1"
      ]
     },
     "execution_count": 7,
     "metadata": {},
     "output_type": "execute_result"
    }
   ],
   "source": [
    "3-2"
   ]
  },
  {
   "attachments": {},
   "cell_type": "markdown",
   "id": "bfdabc45-f573-4f13-bb6b-2758b715746a",
   "metadata": {},
   "source": [
    "# ngon\n",
    "\n",
    "\n",
    "My Title"
   ]
  },
  {
   "cell_type": "code",
   "execution_count": null,
   "id": "86405d0d-641f-4508-83e1-b2e5b2b74c2d",
   "metadata": {},
   "outputs": [],
   "source": []
  }
 ],
 "metadata": {
  "kernelspec": {
   "display_name": "Python 3 (ipykernel)",
   "language": "python",
   "name": "python3"
  },
  "language_info": {
   "codemirror_mode": {
    "name": "ipython",
    "version": 3
   },
   "file_extension": ".py",
   "mimetype": "text/x-python",
   "name": "python",
   "nbconvert_exporter": "python",
   "pygments_lexer": "ipython3",
   "version": "3.11.7"
  }
 },
 "nbformat": 4,
 "nbformat_minor": 5
}
