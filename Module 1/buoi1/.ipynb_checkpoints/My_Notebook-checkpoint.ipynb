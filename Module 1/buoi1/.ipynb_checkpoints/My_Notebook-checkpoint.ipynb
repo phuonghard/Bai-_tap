{
 "cells": [
  {
   "cell_type": "code",
   "execution_count": 3,
   "id": "75159183-85ce-4bd1-abde-b49c4df54184",
   "metadata": {},
   "outputs": [],
   "source": [
    "#ngon"
   ]
  },
  {
   "cell_type": "code",
   "execution_count": 4,
   "id": "31cc8c93-6ab1-4581-9752-2f47526358a2",
   "metadata": {},
   "outputs": [
    {
     "data": {
      "text/plain": [
       "2"
      ]
     },
     "execution_count": 4,
     "metadata": {},
     "output_type": "execute_result"
    }
   ],
   "source": [
    "1+1"
   ]
  },
  {
   "cell_type": "code",
   "execution_count": null,
   "id": "9d82188a-4028-4530-ad6d-bda3735c1645",
   "metadata": {},
   "outputs": [],
   "source": []
  },
  {
   "cell_type": "code",
   "execution_count": null,
   "id": "c22e6291-08a0-4056-a904-0ed4cba7e364",
   "metadata": {},
   "outputs": [],
   "source": []
  },
  {
   "cell_type": "code",
   "execution_count": null,
   "id": "045ce341-e210-42a9-90a9-afe7fead9290",
   "metadata": {},
   "outputs": [],
   "source": []
  },
  {
   "cell_type": "code",
   "execution_count": null,
   "id": "a874c10b-3931-4d40-9df9-d5bffb96c667",
   "metadata": {},
   "outputs": [],
   "source": []
  },
  {
   "cell_type": "code",
   "execution_count": null,
   "id": "80b5f062-f1be-4fa5-baae-039998a0477b",
   "metadata": {},
   "outputs": [],
   "source": []
  },
  {
   "cell_type": "code",
   "execution_count": null,
   "id": "c2b2f868-d7e0-444a-b75b-31edde08bb4e",
   "metadata": {},
   "outputs": [],
   "source": []
  },
  {
   "cell_type": "code",
   "execution_count": null,
   "id": "ffc0ce05-9a97-4c14-8204-51565d98e7c3",
   "metadata": {},
   "outputs": [],
   "source": []
  }
 ],
 "metadata": {
  "kernelspec": {
   "display_name": "Python 3 (ipykernel)",
   "language": "python",
   "name": "python3"
  },
  "language_info": {
   "codemirror_mode": {
    "name": "ipython",
    "version": 3
   },
   "file_extension": ".py",
   "mimetype": "text/x-python",
   "name": "python",
   "nbconvert_exporter": "python",
   "pygments_lexer": "ipython3",
   "version": "3.11.7"
  }
 },
 "nbformat": 4,
 "nbformat_minor": 5
}
